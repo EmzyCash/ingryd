{
 "cells": [
  {
   "cell_type": "markdown",
   "id": "acf8326c",
   "metadata": {},
   "source": [
    "### Group members are: Collins Ugwuozor, Daudu Tobi, Ebunoluwa, and Daniel McDinna"
   ]
  },
  {
   "cell_type": "markdown",
   "id": "dafc5149",
   "metadata": {},
   "source": [
    "No 3: Write a program to calculate the permutation and combination using the formula:\n",
    "- p(n,r) = n!/(n-r)!\n",
    "- c(n,r) = n!/(r! * (n-r)!) = p(n,r)/r! \n",
    "- where n is the no of permutations/combinations taken at r time"
   ]
  },
  {
   "cell_type": "code",
   "execution_count": 2,
   "id": "c02664a8",
   "metadata": {},
   "outputs": [
    {
     "name": "stdout",
     "output_type": "stream",
     "text": [
      "Enter value for n: 5\n",
      "Enter value for r: 3\n",
      "Permutations of 5 taken 3 at a time: 60\n",
      "Combinations of 5 taken 3 at a time: 10\n"
     ]
    }
   ],
   "source": [
    "def factorial(n):\n",
    "    \"\"\"\n",
    "    Calculate the factorial of a number using recursion.\n",
    "    \"\"\"\n",
    "    if n == 0:\n",
    "        return 1\n",
    "    else:\n",
    "        return n * factorial(n - 1)\n",
    "\n",
    "def permutation(n, r):\n",
    "    \"\"\"\n",
    "    Calculate the permutation of n taken r at a time\n",
    "    using the formula p(n,r) = n!/(n-r)!\n",
    "    \"\"\"\n",
    "    return factorial(n) // factorial(n - r)\n",
    "\n",
    "def combination(n, r):\n",
    "    \"\"\"\n",
    "    Calculate the combination of n taken r at a time\n",
    "    using the formula c(n,r) = n!/(r! * (n-r)!) = p(n,r)/r!\n",
    "    \"\"\"\n",
    "    return permutation(n, r) // factorial(r)\n",
    "\n",
    "\n",
    "n = int(input(\"Enter value for n: \"))\n",
    "r = int(input(\"Enter value for r: \"))\n",
    "\n",
    "permutations = permutation(n, r)\n",
    "combinations = combination(n, r)\n",
    "\n",
    "print(\"Permutations of\", n, \"taken\", r, \"at a time:\", permutations)\n",
    "print(\"Combinations of\", n, \"taken\", r, \"at a time:\", combinations)\n"
   ]
  },
  {
   "cell_type": "markdown",
   "id": "b83d0594",
   "metadata": {},
   "source": [
    "N0 4: Write a program that converts a decimal number to binary number."
   ]
  },
  {
   "cell_type": "code",
   "execution_count": 4,
   "id": "a383fc3f",
   "metadata": {},
   "outputs": [
    {
     "name": "stdout",
     "output_type": "stream",
     "text": [
      "Enter a decimal number: 5\n",
      "Binary Number: 101\n"
     ]
    }
   ],
   "source": [
    "def decimal_to_binary(decimal_num):\n",
    "    \"\"\"\n",
    "    Convert a decimal number to a binary number.\n",
    "    \"\"\"\n",
    "    binary_num = \"\"\n",
    "    while decimal_num > 0:\n",
    "        remainder = decimal_num % 2\n",
    "        binary_num = str(remainder) + binary_num\n",
    "        decimal_num //= 2\n",
    "    return binary_num if binary_num else \"0\"\n",
    "\n",
    "\n",
    "decimal_number = int(input(\"Enter a decimal number: \"))\n",
    "binary_number = decimal_to_binary(decimal_number)\n",
    "print(\"Binary Number:\", binary_number)\n"
   ]
  },
  {
   "cell_type": "markdown",
   "id": "7bf42fd6",
   "metadata": {},
   "source": [
    " No 6: Write a program function sumPdivisiors that finds the sum of proper divisors of a given number.\n",
    "- Proper divisors are those numbers which by which the number is divisible except the number itself. \n",
    "- e.g. divisors of 10: 1,2,5"
   ]
  },
  {
   "cell_type": "code",
   "execution_count": 13,
   "id": "f5947205",
   "metadata": {},
   "outputs": [
    {
     "name": "stdout",
     "output_type": "stream",
     "text": [
      "Enter a number: 56\n",
      "Sum of proper divisors of 56 is: 64\n"
     ]
    }
   ],
   "source": [
    "def sumPdivisors(n):\n",
    "    \"\"\"\n",
    "    Find the sum of proper divisors of a given number.\n",
    "    \"\"\"\n",
    "    if n <= 1:\n",
    "        return 0\n",
    "    divisors_sum = 1  # 1 is always a proper divisor\n",
    "    for i in range(2, int(n**0.5) + 1):\n",
    "        if n % i == 0:\n",
    "            divisors_sum += i\n",
    "            if i != n // i:\n",
    "                divisors_sum += n // i\n",
    "    return divisors_sum\n",
    "\n",
    "\n",
    "number = int(input(\"Enter a number: \"))\n",
    "print(\"Sum of proper divisors of\", number, \"is:\", sumPdivisors(number))\n"
   ]
  },
  {
   "cell_type": "markdown",
   "id": "ac7bd56e",
   "metadata": {},
   "source": [
    "No 7: Write a program that filters odd numbers in a list. Hint: use lambda func"
   ]
  },
  {
   "cell_type": "code",
   "execution_count": 17,
   "id": "79841b25",
   "metadata": {
    "scrolled": true
   },
   "outputs": [
    {
     "name": "stdout",
     "output_type": "stream",
     "text": [
      "Odd numbers in the list: [1, 3, 5, 7, 9, 11, 13, 15, 17, 19]\n"
     ]
    }
   ],
   "source": [
    "# Define a list\n",
    "numbers = [1, 2, 3, 4, 5, 6, 7, 8, 9, 10,11,12,13,14,15,16,17,18,19,20]\n",
    "# Use filter with lambda function to filter odd numbers\n",
    "odd_numbers = list(filter(lambda x: x % 2 != 0, numbers))\n",
    "\n",
    "# Print the filtered list of odd numbers\n",
    "print(\"Odd numbers in the list:\", odd_numbers)\n"
   ]
  },
  {
   "cell_type": "code",
   "execution_count": 25,
   "id": "8f72b2e9",
   "metadata": {},
   "outputs": [
    {
     "name": "stdout",
     "output_type": "stream",
     "text": [
      "[1, 3, 5, 7, 9, 11, 13, 15, 17, 19]\n"
     ]
    }
   ],
   "source": [
    "numbers = [1, 2, 3, 4, 5, 6, 7, 8, 9, 10, 11, 12, 13, 14, 15, 16, 17, 18, 19, 20]\n",
    "odd_numbers2 = list(filter(lambda x: x % 2 != 0, numbers))\n",
    "print(odd_numbers2)"
   ]
  },
  {
   "cell_type": "code",
   "execution_count": null,
   "id": "2a7a3aa7",
   "metadata": {},
   "outputs": [],
   "source": []
  }
 ],
 "metadata": {
  "kernelspec": {
   "display_name": "Python 3 (ipykernel)",
   "language": "python",
   "name": "python3"
  },
  "language_info": {
   "codemirror_mode": {
    "name": "ipython",
    "version": 3
   },
   "file_extension": ".py",
   "mimetype": "text/x-python",
   "name": "python",
   "nbconvert_exporter": "python",
   "pygments_lexer": "ipython3",
   "version": "3.9.16"
  }
 },
 "nbformat": 4,
 "nbformat_minor": 5
}
